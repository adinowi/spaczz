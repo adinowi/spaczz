{
 "cells": [
  {
   "cell_type": "markdown",
   "metadata": {},
   "source": [
    "[![Tests](https://github.com/gandersen101/spaczz/workflows/Tests/badge.svg)](https://github.com/gandersen101/spaczz/actions?workflow=Tests)\n",
    "[![Codecov](https://codecov.io/gh/gandersen101/spaczz/branch/master/graph/badge.svg)](https://codecov.io/gh/gandersen101/spaczz)\n",
    "[![PyPI](https://img.shields.io/pypi/v/spaczz.svg)](https://pypi.org/project/spaczz/)\n",
    "[![Read the Docs](https://readthedocs.org/projects/spaczz/badge/)](https://spaczz.readthedocs.io/)"
   ]
  },
  {
   "cell_type": "markdown",
   "metadata": {},
   "source": [
    "# spaczz: Fuzzy matching and more for spaCy"
   ]
  },
  {
   "cell_type": "markdown",
   "metadata": {},
   "source": [
    "spaczz provides fuzzy matching and additional regex matching functionality for [spaCy](https://spacy.io/).\n",
    "spaczz's components have similar APIs to their spaCy counterparts and spaczz pipeline components can integrate into spaCy pipelines where they can be saved/loaded as models.\n",
    "\n",
    "Fuzzy matching is currently performed with matchers from [RapidFuzz](https://github.com/maxbachmann/rapidfuzz)'s fuzz module and regex matching currently relies on the [regex](https://pypi.org/project/regex/) library. spaczz certainly takes additional influence from other libraries and resources. For additional details see the references section.\n",
    "\n",
    "**Supports spaCy v3 and v2 (>= 2.2)!**\n",
    "\n",
    "spaczz has been tested on Ubuntu 18.04, MacOS 10.15, and Windows Server 2019."
   ]
  },
  {
   "cell_type": "markdown",
   "metadata": {},
   "source": [
    "*v0.5.0 Release Notes:*\n",
    "- *Support for spaCy v3.*\n",
    "- *If using spaCy v3, the `SpaczzRuler` optional arguments no longer need to be prepended with `\"spaczz_\"`. This will still work in most cases offering some backwards compatibility. However, optional arguments prepended with `\"spaczz_\"` will not work with spaCy v3's new `spacy.load` and `nlp.add_pipe` config-driven APIs. It is therefore recommended that users move away from using the prepended versions if using spaCy v3. It should be noted however that the prepended arguments are still necessary if using spaczz with spaCy v2.*\n",
    "- *`Matcher.pipe` methods are now deprecated in accordance with spaCy v3.*\n",
    "- *`spaczz_span` custom attribute is deprecated in favor of `spaczz_ent`. They both have the same functionality but the `spaczz_ent` name makes more sense.*\n",
    "\n",
    "*v0.4.2 Release Notes:*\n",
    "- *Fixed a bug where `TokenMatcher` callbacks did nothing.*\n",
    "- *Fixed a bug where `spaczz_token_defaults` in the `SpaczzRuler` did nothing.*\n",
    "- *Fixed a bug where defaults would not be added to their respective matchers when loading from bytes/disk in the `SpaczzRuler`.*\n",
    "- *Fixed some inconsistencies in the `SpaczzRuler` which will be particularly noticeable with ent_ids. See the \"Known Issues\" section below for more details.*\n",
    "- *Small tweaks to spaczz custom attributes.*\n",
    "- *Available fuzzy matching functions have changed in RapidFuzz and have changed in spaczz accordingly.*\n",
    "- *Preparing for spaCy v3 updates.*\n",
    "\n",
    "Please see the [changelog](https://github.com/gandersen101/spaczz/blob/master/CHANGELOG.md) for previous release notes. This will eventually be moved to the [Read the Docs](https://spaczz.readthedocs.io/en/latest/) page."
   ]
  },
  {
   "cell_type": "markdown",
   "metadata": {
    "toc": true
   },
   "source": [
    "<h1>Table of Contents<span class=\"tocSkip\"></span></h1>\n",
    "<div class=\"toc\"><ul class=\"toc-item\"><li><span><a href=\"#Installation\" data-toc-modified-id=\"Installation-1\">Installation</a></span></li><li><span><a href=\"#Basic-Usage\" data-toc-modified-id=\"Basic-Usage-2\">Basic Usage</a></span><ul class=\"toc-item\"><li><span><a href=\"#FuzzyMatcher\" data-toc-modified-id=\"FuzzyMatcher-2.1\">FuzzyMatcher</a></span></li><li><span><a href=\"#RegexMatcher\" data-toc-modified-id=\"RegexMatcher-2.2\">RegexMatcher</a></span></li><li><span><a href=\"#SimilarityMatcher\" data-toc-modified-id=\"SimilarityMatcher-2.3\">SimilarityMatcher</a></span></li><li><span><a href=\"#TokenMatcher\" data-toc-modified-id=\"TokenMatcher-2.4\">TokenMatcher</a></span></li><li><span><a href=\"#SpaczzRuler\" data-toc-modified-id=\"SpaczzRuler-2.5\">SpaczzRuler</a></span></li><li><span><a href=\"#Custom-Attributes\" data-toc-modified-id=\"Custom-Attributes-2.6\">Custom Attributes</a></span></li><li><span><a href=\"#Saving/Loading\" data-toc-modified-id=\"Saving/Loading-2.7\">Saving/Loading</a></span></li></ul></li><li><span><a href=\"#Known-Issues\" data-toc-modified-id=\"Known-Issues-3\">Known Issues</a></span><ul class=\"toc-item\"><li><span><a href=\"#Performance\" data-toc-modified-id=\"Performance-3.1\">Performance</a></span></li><li><span><a href=\"#SpaczzRuler-Inconsistencies\" data-toc-modified-id=\"SpaczzRuler-Inconsistencies-3.2\">SpaczzRuler Inconsistencies</a></span></li></ul></li><li><span><a href=\"#Roadmap\" data-toc-modified-id=\"Roadmap-4\">Roadmap</a></span></li><li><span><a href=\"#Development\" data-toc-modified-id=\"Development-5\">Development</a></span></li><li><span><a href=\"#References\" data-toc-modified-id=\"References-6\">References</a></span></li></ul></div>"
   ]
  },
  {
   "cell_type": "markdown",
   "metadata": {},
   "source": [
    "## Installation"
   ]
  },
  {
   "cell_type": "markdown",
   "metadata": {},
   "source": [
    "Spaczz can be installed using pip."
   ]
  },
  {
   "cell_type": "markdown",
   "metadata": {},
   "source": [
    "```python\n",
    "pip install spaczz\n",
    "```"
   ]
  },
  {
   "cell_type": "markdown",
   "metadata": {},
   "source": [
    "## Basic Usage"
   ]
  },
  {
   "cell_type": "markdown",
   "metadata": {},
   "source": [
    "Spaczz's primary features are the `FuzzyMatcher`, `RegexMatcher`, and \"fuzzy\" `TokenMatcher` that function similarly to spaCy's `Matcher` and `PhraseMatcher`, and the `SpaczzRuler` which integrates the spaczz matchers into a spaCy pipeline component similar to spaCy's `EntityRuler`."
   ]
  },
  {
   "cell_type": "markdown",
   "metadata": {},
   "source": [
    "### FuzzyMatcher"
   ]
  },
  {
   "cell_type": "markdown",
   "metadata": {},
   "source": [
    "The basic usage of the fuzzy matcher is similar to spaCy's `PhraseMatcher` except it returns the fuzzy ratio along with match id, start and end information, so make sure to include a variable for the ratio when unpacking results."
   ]
  },
  {
   "cell_type": "code",
   "execution_count": 1,
   "metadata": {
    "ExecuteTime": {
     "end_time": "2023-04-24T20:33:20.091595Z",
     "start_time": "2023-04-24T20:33:19.314732Z"
    }
   },
   "outputs": [
    {
     "name": "stdout",
     "output_type": "stream",
     "text": [
      "NAME Grint M Anderson 80 Grant Andersen\n",
      "GPE Nashv1le 82 Nashville\n"
     ]
    }
   ],
   "source": [
    "import spacy\n",
    "from spaczz.matcher import FuzzyMatcher\n",
    "\n",
    "nlp = spacy.blank(\"en\")\n",
    "text = \"\"\"Grint M Anderson created spaczz in his home at 555 Fake St, \n",
    "Apt 5 in Nashv1le, TN 55555-1234 in the US.\"\"\"  # Spelling errors intentional.\n",
    "doc = nlp(text)\n",
    "\n",
    "matcher = FuzzyMatcher(nlp.vocab)\n",
    "matcher.add(\"NAME\", [nlp(\"Grant Andersen\")])\n",
    "matcher.add(\"GPE\", [nlp(\"Nashville\")])\n",
    "matches = matcher(doc)\n",
    "\n",
    "for match_id, start, end, ratio, pattern in matches:\n",
    "    print(match_id, doc[start:end], ratio, pattern)"
   ]
  },
  {
   "cell_type": "markdown",
   "metadata": {},
   "source": [
    "Unlike spaCy matchers, spaczz matchers are written in pure Python. While they are required to have a spaCy vocab passed to them during initialization, this is purely for consistency as the spaczz matchers do not use currently use the spaCy vocab. This is why the `match_id` above is simply a string instead of an integer value like in spaCy matchers."
   ]
  },
  {
   "cell_type": "markdown",
   "metadata": {},
   "source": [
    "Spaczz matchers can also make use of on-match rules via callback functions. These on-match callbacks need to accept the matcher itself, the doc the matcher was called on, the match index and the matches produced by the matcher."
   ]
  },
  {
   "cell_type": "code",
   "execution_count": 3,
   "metadata": {
    "ExecuteTime": {
     "end_time": "2023-04-24T20:33:42.638967Z",
     "start_time": "2023-04-24T20:33:42.458997Z"
    }
   },
   "outputs": [
    {
     "name": "stdout",
     "output_type": "stream",
     "text": [
      "('Grint M Anderson', 0, 3, 'NAME')\n"
     ]
    }
   ],
   "source": [
    "import spacy\n",
    "from spacy.tokens import Span\n",
    "from spaczz.matcher import FuzzyMatcher\n",
    "\n",
    "nlp = spacy.blank(\"en\")\n",
    "text = \"\"\"Grint M Anderson created spaczz in his home at 555 Fake St, \n",
    "Apt 5 in Nashv1le, TN 55555-1234 in the US.\"\"\"  # Spelling errors intentional.\n",
    "doc = nlp(text)\n",
    "\n",
    "\n",
    "def add_name_ent(matcher, doc, i, matches):\n",
    "    \"\"\"Callback on match function. Adds \"NAME\" entities to doc.\"\"\"\n",
    "    # Get the current match and create tuple of entity label, start and end.\n",
    "    # Append entity to the doc's entity. (Don't overwrite doc.ents!)\n",
    "    _match_id, start, end, _ratio, _pattern = matches[i]\n",
    "    entity = Span(doc, start, end, label=\"NAME\")\n",
    "    doc.ents += (entity,)\n",
    "\n",
    "\n",
    "matcher = FuzzyMatcher(nlp.vocab)\n",
    "matcher.add(\"NAME\", [nlp(\"Grant Andersen\")], on_match=add_name_ent)\n",
    "matches = matcher(doc)\n",
    "\n",
    "for ent in doc.ents:\n",
    "    print((ent.text, ent.start, ent.end, ent.label_))"
   ]
  },
  {
   "cell_type": "markdown",
   "metadata": {},
   "source": [
    "Like spaCy's `EntityRuler`, a very similar entity updating logic has been implemented in the `SpaczzRuler`. The `SpaczzRuler` also takes care of handling overlapping matches. It is discussed in a later section."
   ]
  },
  {
   "cell_type": "markdown",
   "metadata": {},
   "source": [
    "Unlike spaCy's matchers, rules added to spaczz matchers have optional keyword arguments that can modify the matching behavior. Take the below fuzzy matching examples:"
   ]
  },
  {
   "cell_type": "code",
   "execution_count": 4,
   "metadata": {
    "ExecuteTime": {
     "end_time": "2023-04-24T20:33:54.708176Z",
     "start_time": "2023-04-24T20:33:54.538386Z"
    }
   },
   "outputs": [],
   "source": [
    "import spacy\n",
    "from spaczz.matcher import FuzzyMatcher\n",
    "\n",
    "nlp = spacy.blank(\"en\")\n",
    "# Let's modify the order of the name in the text.\n",
    "text = \"\"\"Anderson, Grint created spaczz in his home at 555 Fake St, \n",
    "Apt 5 in Nashv1le, TN 55555-1234 in the US.\"\"\"  # Spelling errors intentional.\n",
    "doc = nlp(text)\n",
    "\n",
    "matcher = FuzzyMatcher(nlp.vocab)\n",
    "matcher.add(\"NAME\", [nlp(\"Grant Andersen\")])\n",
    "matches = matcher(doc)\n",
    "\n",
    "# The default fuzzy matching settings will not find a match.\n",
    "for match_id, start, end, ratio, pattern in matches:\n",
    "    print(match_id, doc[start:end], ratio, pattern)"
   ]
  },
  {
   "cell_type": "markdown",
   "metadata": {},
   "source": [
    "Next we change the fuzzy matching behavior for the pattern in the \"NAME\" rule."
   ]
  },
  {
   "cell_type": "code",
   "execution_count": 5,
   "metadata": {
    "ExecuteTime": {
     "end_time": "2023-04-24T20:34:01.931726Z",
     "start_time": "2023-04-24T20:34:01.764427Z"
    }
   },
   "outputs": [
    {
     "name": "stdout",
     "output_type": "stream",
     "text": [
      "NAME Anderson, Grint 83 Grant Andersen\n"
     ]
    }
   ],
   "source": [
    "import spacy\n",
    "from spaczz.matcher import FuzzyMatcher\n",
    "\n",
    "nlp = spacy.blank(\"en\")\n",
    "# Let's modify the order of the name in the text.\n",
    "text = \"\"\"Anderson, Grint created spaczz in his home at 555 Fake St, \n",
    "Apt 5 in Nashv1le, TN 55555-1234 in the US.\"\"\"  # Spelling errors intentional.\n",
    "doc = nlp(text)\n",
    "\n",
    "matcher = FuzzyMatcher(nlp.vocab)\n",
    "matcher.add(\"NAME\", [nlp(\"Grant Andersen\")], kwargs=[{\"fuzzy_func\": \"token_sort\"}])\n",
    "matches = matcher(doc)\n",
    "\n",
    "# The default fuzzy matching settings will not find a match.\n",
    "for match_id, start, end, ratio, pattern in matches:\n",
    "    print(match_id, doc[start:end], ratio, pattern)"
   ]
  },
  {
   "cell_type": "markdown",
   "metadata": {},
   "source": [
    "The full list of keyword arguments available for fuzzy matching rules includes:\n",
    "\n",
    "- `fuzzy_func`: Key name of fuzzy matching function to use. All rapidfuzz matching functions with default settings are available. Default is `\"simple\"`:\n",
    "    - \"simple\" = `ratio`\n",
    "    - \"partial\" = `partial_ratio`\n",
    "    - \"token_set\" = `token_set_ratio`\n",
    "    - \"token_sort\" = `token_sort_ratio`\n",
    "    - \"token\" = `\"token_ratio`\n",
    "    - \"partial_token_set\" = `partial_token_set_ratio`\n",
    "    - \"partial_token_sort\" = `partial_token_sort_ratio`\n",
    "    - \"partial_token\" = `partial_token_ratio`\n",
    "    - \"weighted\" = `WRatio`\n",
    "    - \"quick\" = `QRatio`\n",
    "- `ignore_case`: If strings should be lower-cased before comparison or not. Default is `True`.\n",
    "- `flex`: Number of tokens to move match match boundaries left and right during optimization. Can be an integer value with a max of `len(query)` and a min of `0` (will warn and change if higher or lower),or the strings \"max\", \"min\", or \"default\". Default is `\"default\"`: `len(query) // 2`.\n",
    "- `min_r1`: Minimum match ratio required forselection during the intial search over doc. If `flex == 0`, `min_r1` will be overwritten by `min_r2`. If `flex > 0`, `min_r1` must be lower than `min_r2` and \"low\" in general because match boundaries are not flexed initially. Default is `50`.\n",
    "- `min_r2`: Minimum match ratio required for selection during match optimization. Needs to be higher than `min_r1` and \"high\" in general to ensure only quality matches are returned. Default is `75`.\n",
    "- `thresh`: If this ratio is exceeded in initial scan, and `flex > 0`, no optimization will be attempted. If `flex == 0`, `thresh` has no effect. Default is `100`."
   ]
  },
  {
   "cell_type": "markdown",
   "metadata": {},
   "source": [
    "### RegexMatcher"
   ]
  },
  {
   "cell_type": "markdown",
   "metadata": {},
   "source": [
    "The basic usage of the regex matcher is also fairly similar to spaCy's `PhraseMatcher`. It accepts regex patterns as strings so flags must be inline. Regexes are compiled with the [regex](https://pypi.org/project/regex/) package so approximate \"fuzzy\" matching is supported. To provide access to these \"fuzzy\" match results the matcher returns a calculated fuzzy ratio along with match id, start and end information, so make sure to include a variable for the counts when unpacking results."
   ]
  },
  {
   "cell_type": "code",
   "execution_count": 6,
   "metadata": {
    "ExecuteTime": {
     "end_time": "2023-04-24T20:34:11.795488Z",
     "start_time": "2023-04-24T20:34:11.641112Z"
    }
   },
   "outputs": [
    {
     "name": "stdout",
     "output_type": "stream",
     "text": [
      "ZIP 55555-1234 100 \\b\\d{5}(?:[-\\s]\\d{4})?\\b\n",
      "GPE US 80 (USA){d<=1}\n"
     ]
    }
   ],
   "source": [
    "import spacy\n",
    "from spaczz.matcher import RegexMatcher\n",
    "\n",
    "nlp = spacy.blank(\"en\")\n",
    "text = \"\"\"Anderson, Grint created spaczz in his home at 555 Fake St,\n",
    "Apt 5 in Nashv1le, TN 55555-1234 in the US.\"\"\"  # Spelling errors intentional.\n",
    "doc = nlp(text)\n",
    "\n",
    "matcher = RegexMatcher(nlp.vocab)\n",
    "# Use inline flags for regex strings as needed\n",
    "matcher.add(\n",
    "    \"ZIP\",\n",
    "    [r\"\\b\\d{5}(?:[-\\s]\\d{4})?\\b\"],\n",
    ")\n",
    "matcher.add(\"GPE\", [r\"(USA){d<=1}\"])  # Fuzzy regex.\n",
    "matches = matcher(doc)\n",
    "\n",
    "for match_id, start, end, ratio, pattern in matches:\n",
    "    print(match_id, doc[start:end], ratio, pattern)"
   ]
  },
  {
   "cell_type": "markdown",
   "metadata": {},
   "source": [
    "Spaczz matchers can also make use of on-match rules via callback functions. These on-match callbacks need to accept the matcher itself, the doc the matcher was called on, the match index and the matches produced by the matcher. See the fuzzy matcher usage example above for details."
   ]
  },
  {
   "cell_type": "markdown",
   "metadata": {},
   "source": [
    "Like the fuzzy matcher, the regex matcher has optional keyword arguments that can modify matching behavior. Take the below regex matching example."
   ]
  },
  {
   "cell_type": "code",
   "execution_count": 7,
   "metadata": {
    "ExecuteTime": {
     "end_time": "2023-04-24T20:34:32.195237Z",
     "start_time": "2023-04-24T20:34:32.032480Z"
    }
   },
   "outputs": [
    {
     "name": "stdout",
     "output_type": "stream",
     "text": [
      "STREET 555 Fake St, 100 street_addresses\n"
     ]
    }
   ],
   "source": [
    "import spacy\n",
    "from spaczz.matcher import RegexMatcher\n",
    "\n",
    "nlp = spacy.blank(\"en\")\n",
    "text = \"\"\"Anderson, Grint created spaczz in his home at 555 Fake St,\n",
    "Apt 5 in Nashv1le, TN 55555-1234 in the USA.\"\"\"  # Spelling errors intentional. Notice 'USA' here.\n",
    "doc = nlp(text)\n",
    "\n",
    "matcher = RegexMatcher(nlp.vocab)\n",
    "# Use inline flags for regex strings as needed\n",
    "matcher.add(\n",
    "    \"STREET\", [\"street_addresses\"], kwargs=[{\"predef\": True}]\n",
    ")  # Use predefined regex by key name.\n",
    "# Below will not expand partial matches to span boundaries.\n",
    "matcher.add(\"GPE\", [r\"(?i)[U](nited|\\.?) ?[S](tates|\\.?)\"], kwargs=[{\"partial\": False}])\n",
    "matches = matcher(doc)\n",
    "\n",
    "for match_id, start, end, ratio, pattern in matches:\n",
    "    print(\n",
    "        match_id, doc[start:end], ratio, pattern\n",
    "    )  # comma in result isn't ideal - see \"Roadmap\""
   ]
  },
  {
   "cell_type": "markdown",
   "metadata": {},
   "source": [
    "The full list of keyword arguments available for regex matching rules includes:\n",
    "\n",
    "- `partial`: Whether partial matches should be extended to existing span boundaries in the doc or not, i.e. the regex only matches part of a token or span. Default is `True`.\n",
    "- `predef`: Whether the regex string should be interpreted as a key to a predefined regex pattern or not. Default is `False`. The included regexes are:\n",
    "    - `\"dates\"`\n",
    "    - `\"times\"`\n",
    "    - `\"phones\"`\n",
    "    - `\"phones_with_exts\"`\n",
    "    - `\"links\"`\n",
    "    - `\"emails\"`\n",
    "    - `\"ips\"`\n",
    "    - `\"ipv6s\"`\n",
    "    - `\"prices\"`\n",
    "    - `\"hex_colors\"`\n",
    "    - `\"credit_cards\"`\n",
    "    - `\"btc_addresses\"`\n",
    "    - `\"street_addresses\"`\n",
    "    - `\"zip_codes\"`\n",
    "    - `\"po_boxes\"`\n",
    "    - `\"ssn_number\"`\n",
    "\n",
    "The above predef patterns are the same that the [commonregex](https://github.com/madisonmay/CommonRegex) package provides."
   ]
  },
  {
   "cell_type": "markdown",
   "metadata": {},
   "source": [
    "### SimilarityMatcher"
   ]
  },
  {
   "cell_type": "markdown",
   "metadata": {},
   "source": [
    "The basic usage of the similarity matcher is similar to spaCy's `PhraseMatcher` except it returns the vector similarity ratio along with match id, start and end information, so make sure to include a variable for the ratio when unpacking results.\n",
    "\n",
    "In order to produce meaningful results from the similarity matcher, a spaCy model with word vectors (ex. medium or large English models) must be used to initialize the matcher, process the target document, and process any patterns added."
   ]
  },
  {
   "cell_type": "code",
   "execution_count": 8,
   "metadata": {
    "ExecuteTime": {
     "end_time": "2023-04-24T20:35:09.600615Z",
     "start_time": "2023-04-24T20:35:08.246931Z"
    }
   },
   "outputs": [
    {
     "name": "stdout",
     "output_type": "stream",
     "text": [
      "FRUIT apples 70 fruit\n",
      "FRUIT grapes 73 fruit\n",
      "FRUIT bananas 70 fruit\n"
     ]
    }
   ],
   "source": [
    "import spacy\n",
    "from spaczz.matcher import SimilarityMatcher\n",
    "\n",
    "nlp = spacy.load(\"en_core_web_md\")\n",
    "text = \"I like apples, grapes and bananas.\"\n",
    "doc = nlp(text)\n",
    "\n",
    "# lowering min_r2 from default of 75 to produce matches in this example\n",
    "matcher = SimilarityMatcher(nlp.vocab, min_r2=65)\n",
    "matcher.add(\"FRUIT\", [nlp(\"fruit\")])\n",
    "matches = matcher(doc)\n",
    "\n",
    "for match_id, start, end, ratio, pattern in matches:\n",
    "    print(match_id, doc[start:end], ratio, pattern)"
   ]
  },
  {
   "cell_type": "markdown",
   "metadata": {},
   "source": [
    "Please note that even for the mostly pure-Python spaczz, this process is currently extremely slow so be mindful of the scope in which it is applied. Enabling GPU support in spaCy ([see here](https://spacy.io/usage#gpu)) should improve the speed somewhat, but I believe the process will still be bottlenecked in the pure-Python search algorithm until I develop a better search algorithm and/or drop the search to lower-level code (ex C)."
   ]
  },
  {
   "cell_type": "markdown",
   "metadata": {},
   "source": [
    "Also as a somewhat experimental feature, the similarity matcher is not currently part of the `SpaczzRuler` nor does it have a separate ruler. If you need to add similarity matches to a doc's entities you will need to use an on-match callback for the time being. Please see the fuzzy matcher on-match callback example above for ideas. If there is enough interest in integrating/creating a ruler for the similarity matcher this can be done."
   ]
  },
  {
   "cell_type": "markdown",
   "metadata": {},
   "source": [
    "The full list of keyword arguments available for similarity matching rules includes:\n",
    "\n",
    "- `flex`: Number of tokens to move match span boundaries left and right during match optimization. Can be an integer value with a max of `len(query)` and a min of `0` (will warn and change if higher or lower), `\"max\"`, `\"min\"`, or `\"default\"`. Default is `\"default\"`: `len(query) // 2`.\n",
    "- `min_r1`: Minimum similarity match ratio required for selection during the intial search over doc. This should be lower than `min_r2` and \"low\" in general because match span boundaries are not flexed initially. `0` means all spans of query length in doc will have their boundaries flexed and will be re-compared during match optimization. Lower `min_r1` will result in more fine-grained matching but will run slower. Default is `50`.\n",
    "- `min_r2`: Minimum similarity match ratio required for selection during match optimization. Should be higher than `min_r1` and \"high\" in general to ensure only quality matches are returned. Default is `75`.\n",
    "- `thresh`: If this ratio is exceeded in initial scan no optimization will be attempted. Default is `100`."
   ]
  },
  {
   "cell_type": "markdown",
   "metadata": {},
   "source": [
    "### TokenMatcher"
   ]
  },
  {
   "cell_type": "markdown",
   "metadata": {},
   "source": [
    "The basic usage of the token matcher is similar to spaCy's `Matcher`. It accepts labeled patterns in the form of lists of dictionaries where each list describes an individual pattern and each dictionary describes an individual token.\n",
    "\n",
    "The token matcher accepts all the same token attributes and pattern syntax as it's spaCy counterpart but adds fuzzy and fuzzy-regex support.\n",
    "\n",
    "`\"FUZZY\"` and `\"FREGEX\"` are the two additional spaCy token pattern options.\n",
    "\n",
    "For example:\n",
    "    `{\"TEXT\": {\"FREGEX\": \"(database){e<=1}\"}},`\n",
    "    `{\"LOWER\": {\"FUZZY\": \"access\", \"MIN_R\": 85, \"FUZZY_FUNC\": \"quick_lev\"}}`\n",
    "\n",
    "**Make sure to use uppercase dictionary keys in patterns.**"
   ]
  },
  {
   "cell_type": "code",
   "execution_count": 9,
   "metadata": {
    "ExecuteTime": {
     "end_time": "2023-04-24T20:35:25.954327Z",
     "start_time": "2023-04-24T20:35:24.488194Z"
    }
   },
   "outputs": [
    {
     "name": "stdout",
     "output_type": "stream",
     "text": [
      "DATA SQL databesE acess 91 [{\"TEXT\":\"SQL\"},{\"LOWER\":{\"FREGEX\":\"(database){s<=1}\"}},{\"LOWER\":{\"FUZZY\":\"access\"}}]\n",
      "DATA Sequal DB 87 [{\"TEXT\":{\"FUZZY\":\"Sequel\"},\"POS\":\"PROPN\"},{\"LOWER\":\"db\"}]\n",
      "NAME Grfield 93 [{\"TEXT\":{\"FUZZY\":\"Garfield\"}}]\n"
     ]
    }
   ],
   "source": [
    "import spacy\n",
    "from spaczz.matcher import TokenMatcher\n",
    "\n",
    "# Using model results like POS tagging in token patterns requires model that provides these.\n",
    "nlp = spacy.load(\"en_core_web_md\")\n",
    "text = \"\"\"The manager gave me SQL databesE acess so now I can acces the Sequal DB. \n",
    "My manager's name is Grfield\"\"\"\n",
    "doc = nlp(text)\n",
    "\n",
    "matcher = TokenMatcher(vocab=nlp.vocab)\n",
    "matcher.add(\n",
    "    \"DATA\",\n",
    "    [\n",
    "        [\n",
    "            {\"TEXT\": \"SQL\"},\n",
    "            {\"LOWER\": {\"FREGEX\": \"(database){s<=1}\"}},\n",
    "            {\"LOWER\": {\"FUZZY\": \"access\"}},\n",
    "        ],\n",
    "        [{\"TEXT\": {\"FUZZY\": \"Sequel\"}, \"POS\": \"PROPN\"}, {\"LOWER\": \"db\"}],\n",
    "    ],\n",
    ")\n",
    "matcher.add(\"NAME\", [[{\"TEXT\": {\"FUZZY\": \"Garfield\"}}]])\n",
    "matches = matcher(doc)\n",
    "\n",
    "for match_id, start, end, ratio, pattern in matches:\n",
    "    print(match_id, doc[start:end], ratio, pattern)"
   ]
  },
  {
   "cell_type": "markdown",
   "metadata": {},
   "source": [
    "Please note that the way the token matcher is implemented does not currently have a way to return fuzzy ratio or fuzzy-regex counts like the fuzzy matcher and regex matcher provide. To keep the API consistent, the token matcher returns a placeholder of `None` as the fourth element of the tuples it returns, so be sure to account for this like we did with `_` in unpacking above.\n",
    "\n",
    "Also, even though the token matcher can be a drop-in replacement for spaCy's `Matcher`, it is still recommended to use spaCy's `Matcher` if you do not need the spaczz token matcher's fuzzy capabilities - it will slow processing down unnecessarily."
   ]
  },
  {
   "cell_type": "markdown",
   "metadata": {},
   "source": [
    "### SpaczzRuler"
   ]
  },
  {
   "cell_type": "markdown",
   "metadata": {},
   "source": [
    "The spaczz ruler combines the fuzzy and regex phrase matchers, and the \"fuzzy\" token matcher, into one pipeline component that can update a doc entities similar to spaCy's `EntityRuler`.\n",
    "\n",
    "Patterns must be added as an iterable of dictionaries in the format of *{label (str), pattern(str or list), type(str), optional kwargs (dict), and optional id (str)}*.\n",
    "\n",
    "For example, a fuzzy phrase pattern:\n",
    "\n",
    "`{'label': 'ORG', 'pattern': 'Apple', 'type': 'fuzzy', 'kwargs': {'min_r2': 90}}`\n",
    "\n",
    "Or, a token pattern:\n",
    "\n",
    "`{'label': 'ORG', 'pattern': [{'TEXT': {'FUZZY': 'Apple'}}], 'type': 'token'}`"
   ]
  },
  {
   "cell_type": "code",
   "execution_count": 1,
   "metadata": {
    "ExecuteTime": {
     "end_time": "2023-04-24T20:39:07.179519Z",
     "start_time": "2023-04-24T20:39:06.372679Z"
    }
   },
   "outputs": [
    {
     "name": "stdout",
     "output_type": "stream",
     "text": [
      "('Anderson, Grint', 0, 3, 'NAME', 83, 'fuzzy', 'Grant Andersen')\n",
      "('555 Fake St,', 9, 13, 'STREET', 100, 'regex', 'street_addresses')\n",
      "('Nashv1le', 17, 18, 'GPE', 82, 'fuzzy', 'Nashville')\n",
      "('55555-1234', 20, 23, 'ZIP', 90, 'regex', '\\\\b(?:55554){s<=1}(?:(?:[-\\\\s])?\\\\d{4}\\\\b)')\n",
      "('USA', 25, 26, 'GPE', 100, 'regex', '(?i)[U](nited|\\\\.?) ?[S](tates|\\\\.?)')\n",
      "('Converg', 34, 35, 'BAND', 93, 'token', '[{\"LOWER\":{\"FREGEX\":\"(converge){e<=1}\"}}]')\n",
      "('Protet the Zero', 36, 39, 'BAND', 89, 'token', '[{\"TEXT\":{\"FUZZY\":\"Protest\"}},{\"IS_STOP\":true},{\"TEXT\":{\"FUZZY\":\"Hero\"}}]')\n"
     ]
    }
   ],
   "source": [
    "import spacy\n",
    "from spaczz.pipeline import SpaczzRuler\n",
    "\n",
    "nlp = spacy.blank(\"en\")\n",
    "text = \"\"\"Anderson, Grint created spaczz in his home at 555 Fake St,\n",
    "Apt 5 in Nashv1le, TN 55555-1234 in the USA. \n",
    "Some of his favorite bands are Converg and Protet the Zero.\"\"\"  # Spelling errors intentional.\n",
    "doc = nlp(text)\n",
    "\n",
    "patterns = [\n",
    "    {\n",
    "        \"label\": \"NAME\",\n",
    "        \"pattern\": \"Grant Andersen\",\n",
    "        \"type\": \"fuzzy\",\n",
    "        \"kwargs\": {\"fuzzy_func\": \"token_sort\"},\n",
    "    },\n",
    "    {\n",
    "        \"label\": \"STREET\",\n",
    "        \"pattern\": \"street_addresses\",\n",
    "        \"type\": \"regex\",\n",
    "        \"kwargs\": {\"predef\": True},\n",
    "    },\n",
    "    {\"label\": \"GPE\", \"pattern\": \"Nashville\", \"type\": \"fuzzy\"},\n",
    "    {\n",
    "        \"label\": \"ZIP\",\n",
    "        \"pattern\": r\"\\b(?:55554){s<=1}(?:(?:[-\\s])?\\d{4}\\b)\",\n",
    "        \"type\": \"regex\",\n",
    "    },  # fuzzy regex\n",
    "    {\"label\": \"GPE\", \"pattern\": \"(?i)[U](nited|\\.?) ?[S](tates|\\.?)\", \"type\": \"regex\"},\n",
    "    {\n",
    "        \"label\": \"BAND\",\n",
    "        \"pattern\": [{\"LOWER\": {\"FREGEX\": \"(converge){e<=1}\"}}],\n",
    "        \"type\": \"token\",\n",
    "    },\n",
    "    {\n",
    "        \"label\": \"BAND\",\n",
    "        \"pattern\": [\n",
    "            {\"TEXT\": {\"FUZZY\": \"Protest\"}},\n",
    "            {\"IS_STOP\": True},\n",
    "            {\"TEXT\": {\"FUZZY\": \"Hero\"}},\n",
    "        ],\n",
    "        \"type\": \"token\",\n",
    "    },\n",
    "]\n",
    "\n",
    "ruler = SpaczzRuler(nlp)\n",
    "ruler.add_patterns(patterns)\n",
    "doc = ruler(doc)\n",
    "\n",
    "\n",
    "for ent in doc.ents:\n",
    "    print((ent.text, ent.start, ent.end, ent.label_, ent._.spaczz_ratio, ent._.spaczz_type, ent._.spaczz_pattern))\n"
   ]
  },
  {
   "cell_type": "markdown",
   "metadata": {},
   "source": [
    "We see in the example above that we are referencing some custom attributes, which are explained below."
   ]
  },
  {
   "cell_type": "markdown",
   "metadata": {},
   "source": [
    "For more `SpaczzRuler` examples see [here](https://github.com/gandersen101/spaczz/blob/master/examples/fuzzy_matching_tweaks.ipynb). In particular this provides details about the ruler's sorting process and fuzzy matching parameters."
   ]
  },
  {
   "cell_type": "markdown",
   "metadata": {},
   "source": [
    "### Custom Attributes"
   ]
  },
  {
   "cell_type": "markdown",
   "metadata": {},
   "source": [
    "Spaczz initializes some custom attributes upon importing. These are under spaCy's `._.` attribute and are further prepended with `spaczz_` so there should be not conflicts with your own custom attributes. If there are spaczz will force overwrite them.\n",
    "\n",
    "These custom attributes are only set via the spaczz ruler at the token level. Span and doc versions of these attributes are getters that reference the token level attributes.\n",
    "\n",
    "The following `Token` attributes are available. All are mutable:\n",
    "\n",
    "- `spaczz_token`: default = `False`. Boolean that denotes if the token is part of an ent set by the spaczz ruler.\n",
    "- `spaczz_type`: default = `None`. String that shows which matcher produced an ent using the token.\n",
    "- `spaczz_ratio`: default = `None`. If the token is part of matched ent, will return fuzzy ratio.\n",
    "\n",
    "The following `Span` attributes reference the token attributes included in the span. All are immutable:\n",
    "\n",
    "- `spaczz_ent`: default = `False`. Boolean that denotes if all tokens in span are part of an ent set by the spaczz ruler.\n",
    "- `spaczz_type`: default = `None`. String that denotes which matcher produced an ent using the included tokens.\n",
    "- `spaczz_types`: default = `set()`. Set that shows which matchers produced ents using the included tokens. An entity span should only have one type, but this allows you to see the types included in any arbitrary span.\n",
    "- `spaczz_ratio`: default = `None`. If all the tokens in span are part of matched ent, will return fuzzy ratio.\n",
    "\n",
    "The following `Doc` attributes reference the token attributes included in the doc. All are immutable:\n",
    "\n",
    "- `spaczz_doc`: default = `False`. Boolean that denotes if any tokens in the doc are part of an ent set by the spaczz ruler.\n",
    "- `spaczz_types`: default = `set()`. Set that shows which matchers produced ents in the doc."
   ]
  },
  {
   "cell_type": "markdown",
   "metadata": {},
   "source": [
    "### Saving/Loading"
   ]
  },
  {
   "cell_type": "markdown",
   "metadata": {},
   "source": [
    "The `SpaczzRuler` has it's own to/from disk/bytes methods and will accept `config` parameters passed to `spacy.load()`. It also has it's own spaCy factory entry point so spaCy is aware of the `SpaczzRuler`. Below is an example of saving and loading a spacy pipeline with the small English model, the `EntityRuler`, and the `SpaczzRuler`."
   ]
  },
  {
   "cell_type": "code",
   "execution_count": 2,
   "metadata": {
    "ExecuteTime": {
     "end_time": "2023-04-24T20:39:21.665137Z",
     "start_time": "2023-04-24T20:39:20.388012Z"
    }
   },
   "outputs": [
    {
     "name": "stdout",
     "output_type": "stream",
     "text": [
      "('Anderson, Grint', 0, 3, 'ORG')\n",
      "('555', 9, 10, 'CARDINAL')\n",
      "('Apt 5', 14, 16, 'PRODUCT')\n",
      "('Nashv1le', 17, 18, 'GPE')\n",
      "('TN 55555-1234', 19, 23, 'ORG')\n",
      "('USA', 25, 26, 'GPE')\n",
      "('Converg', 34, 35, 'PERSON')\n",
      "('Zero', 38, 39, 'CARDINAL')\n"
     ]
    }
   ],
   "source": [
    "import spacy\n",
    "from spaczz.pipeline import SpaczzRuler\n",
    "\n",
    "nlp = spacy.load(\"en_core_web_md\")\n",
    "text = \"\"\"Anderson, Grint created spaczz in his home at 555 Fake St,\n",
    "Apt 5 in Nashv1le, TN 55555-1234 in the USA. \n",
    "Some of his favorite bands are Converg and Protet the Zero.\"\"\"  # Spelling errors intentional.\n",
    "doc = nlp(text)\n",
    "\n",
    "for ent in doc.ents:\n",
    "    print((ent.text, ent.start, ent.end, ent.label_))"
   ]
  },
  {
   "cell_type": "markdown",
   "metadata": {},
   "source": [
    "While spaCy does a decent job of identifying that named entities are present in this example, we can definitely improve the matches - particularly with the types of labels applied."
   ]
  },
  {
   "cell_type": "markdown",
   "metadata": {},
   "source": [
    "Let's add an entity ruler for some rules-based matches."
   ]
  },
  {
   "cell_type": "code",
   "execution_count": 3,
   "metadata": {
    "ExecuteTime": {
     "end_time": "2023-04-24T20:39:26.443005Z",
     "start_time": "2023-04-24T20:39:26.412583Z"
    }
   },
   "outputs": [
    {
     "name": "stdout",
     "output_type": "stream",
     "text": [
      "('Anderson, Grint', 0, 3, 'ORG')\n",
      "('555', 9, 10, 'CARDINAL')\n",
      "('Apt 5', 14, 16, 'PRODUCT')\n",
      "('Nashv1le', 17, 18, 'GPE')\n",
      "('TN', 19, 20, 'GPE')\n",
      "('USA', 25, 26, 'GPE')\n",
      "('Converg', 34, 35, 'PERSON')\n",
      "('Zero', 38, 39, 'CARDINAL')\n"
     ]
    }
   ],
   "source": [
    "from spacy.pipeline import EntityRuler\n",
    "\n",
    "entity_ruler = nlp.add_pipe(\"entity_ruler\", before=\"ner\") #spaCy v3 syntax\n",
    "entity_ruler.add_patterns(\n",
    "    [{\"label\": \"GPE\", \"pattern\": \"Nashville\"}, {\"label\": \"GPE\", \"pattern\": \"TN\"}]\n",
    ")\n",
    "\n",
    "doc = nlp(text)\n",
    "\n",
    "for ent in doc.ents:\n",
    "    print((ent.text, ent.start, ent.end, ent.label_))"
   ]
  },
  {
   "cell_type": "markdown",
   "metadata": {},
   "source": [
    "We're making progress, but Nashville is spelled wrong in the text so the entity ruler does not find it, and we still have other entities to fix/find."
   ]
  },
  {
   "cell_type": "markdown",
   "metadata": {},
   "source": [
    "Let's add a spaczz ruler to round this pipeline out. We will also include the `spaczz_span` custom attribute in the results to denote which entities were set via spaczz."
   ]
  },
  {
   "cell_type": "code",
   "execution_count": 4,
   "metadata": {
    "ExecuteTime": {
     "end_time": "2023-04-24T20:39:30.726414Z",
     "start_time": "2023-04-24T20:39:30.644238Z"
    }
   },
   "outputs": [
    {
     "name": "stdout",
     "output_type": "stream",
     "text": [
      "('Anderson, Grint', 0, 3, 'NAME', True)\n",
      "('555 Fake St,', 9, 13, 'STREET', True)\n",
      "('Apt 5', 14, 16, 'PRODUCT', False)\n",
      "('Nashv1le', 17, 18, 'GPE', True)\n",
      "('TN', 19, 20, 'GPE', False)\n",
      "('55555-1234', 20, 23, 'ZIP', True)\n",
      "('USA', 25, 26, 'GPE', False)\n",
      "('Converg', 34, 35, 'BAND', True)\n",
      "('Protet the Zero', 36, 39, 'BAND', True)\n"
     ]
    }
   ],
   "source": [
    "spaczz_ruler = nlp.add_pipe(\"spaczz_ruler\", before=\"ner\") #spaCy v3 syntax\n",
    "spaczz_ruler.add_patterns(\n",
    "    [\n",
    "        {\n",
    "            \"label\": \"NAME\",\n",
    "            \"pattern\": \"Grant Andersen\",\n",
    "            \"type\": \"fuzzy\",\n",
    "            \"kwargs\": {\"fuzzy_func\": \"token_sort\"},\n",
    "        },\n",
    "        {\n",
    "            \"label\": \"STREET\",\n",
    "            \"pattern\": \"street_addresses\",\n",
    "            \"type\": \"regex\",\n",
    "            \"kwargs\": {\"predef\": True},\n",
    "        },\n",
    "        {\"label\": \"GPE\", \"pattern\": \"Nashville\", \"type\": \"fuzzy\"},\n",
    "        {\n",
    "            \"label\": \"ZIP\",\n",
    "            \"pattern\": r\"\\b(?:55554){s<=1}(?:[-\\s]\\d{4})?\\b\",\n",
    "            \"type\": \"regex\",\n",
    "        },  # fuzzy regex\n",
    "        {\n",
    "            \"label\": \"BAND\",\n",
    "            \"pattern\": [{\"LOWER\": {\"FREGEX\": \"(converge){e<=1}\"}}],\n",
    "            \"type\": \"token\",\n",
    "        },\n",
    "        {\n",
    "            \"label\": \"BAND\",\n",
    "            \"pattern\": [\n",
    "                {\"TEXT\": {\"FUZZY\": \"Protest\"}},\n",
    "                {\"IS_STOP\": True},\n",
    "                {\"TEXT\": {\"FUZZY\": \"Hero\"}},\n",
    "            ],\n",
    "            \"type\": \"token\",\n",
    "        },\n",
    "    ]\n",
    ")\n",
    "\n",
    "doc = nlp(text)\n",
    "\n",
    "for ent in doc.ents:\n",
    "    print((ent.text, ent.start, ent.end, ent.label_, ent._.spaczz_ent))"
   ]
  },
  {
   "cell_type": "markdown",
   "metadata": {},
   "source": [
    "Awesome! The small English model still makes a named entity recognition mistake (\"5\" in \"Apt 5\" as `CARDINAL`), but we're satisfied overall."
   ]
  },
  {
   "cell_type": "markdown",
   "metadata": {},
   "source": [
    "Let's save this pipeline to disk and make sure we can load it back correctly."
   ]
  },
  {
   "cell_type": "code",
   "execution_count": 5,
   "metadata": {
    "ExecuteTime": {
     "end_time": "2023-04-24T20:39:38.454181Z",
     "start_time": "2023-04-24T20:39:36.707349Z"
    }
   },
   "outputs": [
    {
     "data": {
      "text/plain": [
       "['tok2vec',\n",
       " 'tagger',\n",
       " 'parser',\n",
       " 'attribute_ruler',\n",
       " 'lemmatizer',\n",
       " 'entity_ruler',\n",
       " 'spaczz_ruler',\n",
       " 'ner']"
      ]
     },
     "execution_count": 5,
     "metadata": {},
     "output_type": "execute_result"
    }
   ],
   "source": [
    "import tempfile\n",
    "\n",
    "with tempfile.TemporaryDirectory() as tmp_dir:\n",
    "    nlp.to_disk(f\"{tmp_dir}/example_pipeline\")\n",
    "    nlp = spacy.load(f\"{tmp_dir}/example_pipeline\")\n",
    "\n",
    "nlp.pipe_names"
   ]
  },
  {
   "cell_type": "markdown",
   "metadata": {},
   "source": [
    "We can even ensure all the spaczz ruler patterns are still present."
   ]
  },
  {
   "cell_type": "code",
   "execution_count": 6,
   "metadata": {
    "ExecuteTime": {
     "end_time": "2023-04-24T20:39:41.090412Z",
     "start_time": "2023-04-24T20:39:41.084830Z"
    }
   },
   "outputs": [
    {
     "data": {
      "text/plain": [
       "[{'label': 'NAME',\n",
       "  'pattern': 'Grant Andersen',\n",
       "  'type': 'fuzzy',\n",
       "  'kwargs': {'fuzzy_func': 'token_sort'}},\n",
       " {'label': 'GPE', 'pattern': 'Nashville', 'type': 'fuzzy'},\n",
       " {'label': 'STREET',\n",
       "  'pattern': 'street_addresses',\n",
       "  'type': 'regex',\n",
       "  'kwargs': {'predef': True}},\n",
       " {'label': 'ZIP',\n",
       "  'pattern': '\\\\b(?:55554){s<=1}(?:[-\\\\s]\\\\d{4})?\\\\b',\n",
       "  'type': 'regex'},\n",
       " {'label': 'BAND',\n",
       "  'pattern': [{'LOWER': {'FREGEX': '(converge){e<=1}'}}],\n",
       "  'type': 'token'},\n",
       " {'label': 'BAND',\n",
       "  'pattern': [{'TEXT': {'FUZZY': 'Protest'}},\n",
       "   {'IS_STOP': True},\n",
       "   {'TEXT': {'FUZZY': 'Hero'}}],\n",
       "  'type': 'token'}]"
      ]
     },
     "execution_count": 6,
     "metadata": {},
     "output_type": "execute_result"
    }
   ],
   "source": [
    "spaczz_ruler = nlp.get_pipe(\"spaczz_ruler\")\n",
    "spaczz_ruler.patterns"
   ]
  },
  {
   "cell_type": "markdown",
   "metadata": {},
   "source": [
    "## Known Issues"
   ]
  },
  {
   "cell_type": "markdown",
   "metadata": {},
   "source": [
    "### Performance"
   ]
  },
  {
   "cell_type": "markdown",
   "metadata": {},
   "source": [
    "The main reason for spaczz's slower speed is that the *c* in it's name is not capitalized like it is in spa*C*y.\n",
    "Spaczz is written in pure Python and it's matchers do not currently utilize spaCy language vocabularies, which means following it's logic should be easy to those familiar with Python. However this means spaczz components will run slower and likely consume more memory than their spaCy counterparts, especially as more patterns are added and documents get longer. It is therefore recommended to use spaCy components like the EntityRuler for entities with little uncertainty, like consistent spelling errors. Use spaczz components when there are not viable spaCy alternatives.\n",
    "\n",
    "I am actively working on performance optimizations to spaczz but it is a gradual process. Algorithmic and optimization suggestions are welcome. I am working on learning C but currently C-based work is outside of my skill set.\n",
    "\n",
    "The `FuzzyMatcher`, and even more so, the `SimilarityMatcher` are the slowest spaczz components (although allowing for enough \"fuzzy\" matches in the `RegexMatcher` can get really slow as well). The primary methods for speeding these components up are by decreasing the `flex` parameter towards `0`, or if `flex > 0`, increasing the `min_r1` parameter towards the value of `min_r2` and/or lowering the `thresh` parameter towards `min_r2`. Be aware that all of these \"speed-ups\" come at the opportunity cost of potentially improved matches.\n",
    "\n",
    "As mentioned in the `SimilarityMatcher` description, utilizing a GPU will also help speed up it's matching process.\n",
    "\n",
    "I will likely try to develop some automated and/or heuristic-based API options (while retaining all the current options) in the future to simplify this \"tuning\" process."
   ]
  },
  {
   "cell_type": "markdown",
   "metadata": {},
   "source": [
    "### SpaczzRuler Inconsistencies"
   ]
  },
  {
   "cell_type": "markdown",
   "metadata": {},
   "source": [
    "This one is particularly annoying for me because I built myself into this hole trying to support too much too fast. That being said I have addressed much of this as of spaczz 0.4.2 and will continue to improve these issues.\n",
    "\n",
    "Spaczz, like spaCy, has undefined behavior for multiple labels (or label/ent_id combos) sharing the same pattern. For example, if you add the pattern `\"Ireland\"` as both `\"GPE\"` and `\"NAME\"` the resulting label is unpredictable. For the most part this isn't an issue but spaczz also has to deal with the additional wrinkle of fuzzy matches.\n",
    "\n",
    "For example if we are looking for the string `\"Ireland\"` and have the patterns `[\"Ireland\", \"Iceland\"]`. Even with a required match ratio of `85` these will both match at `100` and `86` respectively. When just dealing with fuzzy matches this isn't an issue as we can sort by descending match ratio. However what if the `\"Iceland\"` pattern was a regex pattern and it returned a tuple of fuzzy regex counts? Or what if the `\"Iceland\"` pattern was a token pattern and the `TokenMatcher` does not even currently provide match details?!\n",
    "\n",
    "The above problem is twofold. First and foremost, I need to develop a way or ways to compare apples to oranges - fuzzy ratios and fuzzy regex counts. Then I need to figure out how to include match details from the `TokenMatcher` which supports both fuzzy and \"fuzzy\" regex matches.\n",
    "\n",
    "For a short-term solution I am having the entity ruler first go through sorted fuzzy matches, then sorted regex matches, and lastly token matches. Token matches will only be sorted by length of match, not quality, so they may provide inconsistent results. Try to be mindful of your token patterns. \n",
    "\n",
    "There is additional logic in place to filter overlapping matches preserving earlier matches over later ones. This order of priority (fuzzy, regex, token) may not be ideal for everyone but adding a way to change the order (say regex patterns first) would a temporary solution to a temporary problem.\n",
    "\n",
    "Please bare with me through these growing pains."
   ]
  },
  {
   "cell_type": "markdown",
   "metadata": {},
   "source": [
    "## Roadmap"
   ]
  },
  {
   "cell_type": "markdown",
   "metadata": {},
   "source": [
    "I am always open and receptive to feature requests but just be aware, as a solo-dev with a lot left to learn, development can move pretty slow. The following is my roadmap for spaczz so you can see where issues raised might fit into my current priorities."
   ]
  },
  {
   "cell_type": "markdown",
   "metadata": {},
   "source": [
    "**High Priority**\n",
    "\n",
    "1. Bug fixes - both breaking and behavioral. Hopefully these will be minimal.\n",
    "1. Ease of use and error/warning handling and messaging enhancements.\n",
    "1. Building out Read the Docs.\n",
    "1. A way to return match ratios from the `TokenMatcher`.\n",
    "1. Option to prioritize match quality over length and/or weighing options.\n",
    "1. Profiling - hopefully to find \"easy\" performance optimizations.\n",
    "\n",
    "**Enhancements**\n",
    "\n",
    "1. API support for adding user-defined regexes to the predefined regex.\n",
    "    1. Saving these additional predefined regexes as part of the SpaczzRuler will also be supported.\n",
    "1. Entity start/end trimming on the token level to prevent fuzzy and regex phrase matches from starting/ending with unwanted tokens, i.e. spaces/punctuation.\n",
    "\n",
    "**Long-Horizon Performance Enhancements**\n",
    "\n",
    "1. Having spaczz matchers utilize spaCy vocabularies.\n",
    "1. Rewrite the phrase and token searching algorithms in Cython to utilize C speed.\n",
    "    1. Try to integrate closely with spaCy."
   ]
  },
  {
   "cell_type": "markdown",
   "metadata": {},
   "source": [
    "## Development"
   ]
  },
  {
   "cell_type": "markdown",
   "metadata": {},
   "source": [
    "Pull requests and contributors are welcome.\n",
    "\n",
    "spaczz is linted with [Flake8](https://flake8.pycqa.org/en/latest/), formatted with [Black](https://black.readthedocs.io/en/stable/), type-checked with [MyPy](http://mypy-lang.org/) (although this could benefit from improved specificity), tested with [Pytest](https://docs.pytest.org/en/stable/), automated with [Nox](https://nox.thea.codes/en/stable/), and built/packaged with [Poetry](https://python-poetry.org/). There are a few other development tools detailed in the noxfile.py, along with Git pre-commit hooks.\n",
    "\n",
    "To contribute to spaczz's development, fork the repository then install spaczz and it's dev dependencies with Poetry. If you're interested in being a regular contributor please contact me directly."
   ]
  },
  {
   "cell_type": "markdown",
   "metadata": {},
   "source": [
    "```python\n",
    "poetry install # Within spaczz's root directory.\n",
    "```"
   ]
  },
  {
   "cell_type": "markdown",
   "metadata": {},
   "source": [
    "I keep Nox and pre-commit outside of my poetry environment as part of my Python toolchain environments. With pre-commit installed you may also need to run the below to commit changes."
   ]
  },
  {
   "cell_type": "markdown",
   "metadata": {},
   "source": [
    "```python\n",
    "pre-commit install\n",
    "```"
   ]
  },
  {
   "cell_type": "markdown",
   "metadata": {},
   "source": [
    "The only other package that will not be installed via Poetry but is used for testing and in-documentation examples is the spaCy medium English model (`en-core-web-md`). This will need to be installed separately. The command below should do the trick:"
   ]
  },
  {
   "cell_type": "markdown",
   "metadata": {
    "ExecuteTime": {
     "end_time": "2020-11-12T16:14:04.461530Z",
     "start_time": "2020-11-12T16:14:04.458674Z"
    }
   },
   "source": [
    "```python\n",
    "poetry run python -m spacy download \"en_core_web_md\"\n",
    "```"
   ]
  },
  {
   "cell_type": "markdown",
   "metadata": {},
   "source": [
    "## References"
   ]
  },
  {
   "cell_type": "markdown",
   "metadata": {},
   "source": [
    "- Spaczz tries to stay as close to [spaCy](https://spacy.io/)'s API as possible. Whenever it made sense to use existing spaCy code within spaczz this was done.\n",
    "- Fuzzy matching is performed using [RapidFuzz](https://github.com/maxbachmann/rapidfuzz).\n",
    "- Regexes are performed using the [regex](https://pypi.org/project/regex/) library.\n",
    "- The search algorithm for phrased-based fuzzy and similarity matching was heavily influnced by Stack Overflow user Ulf Aslak's answer in this [thread](https://stackoverflow.com/questions/36013295/find-best-substring-match).\n",
    "- Spaczz's predefined regex patterns were borrowed from the [commonregex](https://github.com/madisonmay/CommonRegex) package.\n",
    "- Spaczz's development and CI/CD patterns were inspired by Claudio Jolowicz's [*Hypermodern Python*](https://cjolowicz.github.io/posts/hypermodern-python-01-setup/) article series."
   ]
  }
 ],
 "metadata": {
  "kernelspec": {
   "display_name": "Python [poetry:spaczz]",
   "language": "python",
   "name": "python.poetry.spaczz"
  },
  "language_info": {
   "codemirror_mode": {
    "name": "ipython",
    "version": 3
   },
   "file_extension": ".py",
   "mimetype": "text/x-python",
   "name": "python",
   "nbconvert_exporter": "python",
   "pygments_lexer": "ipython3",
   "version": "3.11.3"
  },
  "toc": {
   "base_numbering": 1,
   "nav_menu": {},
   "number_sections": false,
   "sideBar": true,
   "skip_h1_title": true,
   "title_cell": "Table of Contents",
   "title_sidebar": "Contents",
   "toc_cell": true,
   "toc_position": {
    "height": "calc(100% - 180px)",
    "left": "10px",
    "top": "150px",
    "width": "217.543px"
   },
   "toc_section_display": true,
   "toc_window_display": true
  },
  "varInspector": {
   "cols": {
    "lenName": 16,
    "lenType": 16,
    "lenVar": 40
   },
   "kernels_config": {
    "python": {
     "delete_cmd_postfix": "",
     "delete_cmd_prefix": "del ",
     "library": "var_list.py",
     "varRefreshCmd": "print(var_dic_list())"
    },
    "r": {
     "delete_cmd_postfix": ") ",
     "delete_cmd_prefix": "rm(",
     "library": "var_list.r",
     "varRefreshCmd": "cat(var_dic_list()) "
    }
   },
   "types_to_exclude": [
    "module",
    "function",
    "builtin_function_or_method",
    "instance",
    "_Feature"
   ],
   "window_display": false
  }
 },
 "nbformat": 4,
 "nbformat_minor": 4
}
