{
 "cells": [
  {
   "cell_type": "markdown",
   "id": "hungry-latex",
   "metadata": {},
   "source": [
    "# spaczz: Fuzzy Matching Tweaks"
   ]
  },
  {
   "cell_type": "markdown",
   "id": "southwest-homeless",
   "metadata": {},
   "source": [
    "spaczz's `FuzzyMatcher` (used in the `SpaczzRuler` when pattern type is \"fuzzy\") has the most parameters to play with and the results it produces can change significantly based on those parameters. This notebook provides some examples of common situations."
   ]
  },
  {
   "cell_type": "markdown",
   "id": "discrete-script",
   "metadata": {},
   "source": [
    "## Setup"
   ]
  },
  {
   "cell_type": "code",
   "execution_count": 1,
   "id": "killing-refrigerator",
   "metadata": {
    "ExecuteTime": {
     "end_time": "2023-05-01T03:07:36.303723Z",
     "start_time": "2023-05-01T03:07:35.754256Z"
    }
   },
   "outputs": [],
   "source": [
    "from pathlib import Path\n",
    "\n",
    "import spacy\n",
    "from spacy.pipeline import EntityRuler\n",
    "from spaczz.pipeline import SpaczzRuler\n",
    "import srsly"
   ]
  },
  {
   "cell_type": "code",
   "execution_count": 2,
   "id": "satellite-iraqi",
   "metadata": {
    "ExecuteTime": {
     "end_time": "2023-05-01T03:07:36.895321Z",
     "start_time": "2023-05-01T03:07:36.891744Z"
    }
   },
   "outputs": [],
   "source": [
    "path = Path.cwd().joinpath(\"../tests/fixtures\").resolve()"
   ]
  },
  {
   "cell_type": "markdown",
   "id": "aggregate-stock",
   "metadata": {},
   "source": [
    "Loading some country name patterns:"
   ]
  },
  {
   "cell_type": "code",
   "execution_count": 3,
   "id": "united-drive",
   "metadata": {
    "ExecuteTime": {
     "end_time": "2023-05-01T03:07:38.238639Z",
     "start_time": "2023-05-01T03:07:38.234477Z"
    }
   },
   "outputs": [],
   "source": [
    "raw_patterns = srsly.read_json(path / \"countries.json\")\n",
    "fuzzy_patterns = [\n",
    "    {\n",
    "        \"label\": \"COUNTRY\",\n",
    "        \"pattern\": pattern[\"name\"],\n",
    "        \"type\": \"fuzzy\",\n",
    "        \"id\": pattern[\"name\"],\n",
    "    }\n",
    "    for pattern in raw_patterns\n",
    "]"
   ]
  },
  {
   "cell_type": "markdown",
   "id": "contained-minimum",
   "metadata": {},
   "source": [
    "### Basic Pipeline:"
   ]
  },
  {
   "cell_type": "code",
   "execution_count": 4,
   "id": "experimental-yugoslavia",
   "metadata": {
    "ExecuteTime": {
     "end_time": "2023-05-01T03:07:40.265853Z",
     "start_time": "2023-05-01T03:07:40.003313Z"
    }
   },
   "outputs": [],
   "source": [
    "nlp = spacy.blank(\"en\")\n",
    "spaczz_ruler = nlp.add_pipe(\"spaczz_ruler\")\n",
    "spaczz_ruler.add_patterns(fuzzy_patterns)"
   ]
  },
  {
   "cell_type": "markdown",
   "id": "ahead-helmet",
   "metadata": {},
   "source": [
    "## Example 1: Basic"
   ]
  },
  {
   "cell_type": "code",
   "execution_count": 5,
   "id": "subtle-marsh",
   "metadata": {
    "ExecuteTime": {
     "end_time": "2023-05-01T03:07:41.141043Z",
     "start_time": "2023-05-01T03:07:41.115500Z"
    }
   },
   "outputs": [
    {
     "name": "stdout",
     "output_type": "stream",
     "text": [
      "Success!\n",
      "[('Egypt', 'Egypt'), ('Argentina', 'Argentina')]\n"
     ]
    }
   ],
   "source": [
    "doc = nlp(\"This is a test that should find Egypt and Argentina\")\n",
    "countries = [(ent.ent_id_, ent.text) for ent in doc.ents if ent.label_ == \"COUNTRY\"]\n",
    "if countries != [(\"Egypt\", \"Egypt\"), (\"Argentina\", \"Argentina\")]:\n",
    "    print(\"Unexpected results...\")\n",
    "    print(countries)\n",
    "else:\n",
    "    print(\"Success!\")\n",
    "    print(countries)"
   ]
  },
  {
   "cell_type": "markdown",
   "id": "failing-traffic",
   "metadata": {},
   "source": [
    "## Example 2: Multi-Match"
   ]
  },
  {
   "cell_type": "code",
   "execution_count": 6,
   "id": "naval-pilot",
   "metadata": {
    "ExecuteTime": {
     "end_time": "2023-05-01T03:07:42.574251Z",
     "start_time": "2023-05-01T03:07:42.546920Z"
    }
   },
   "outputs": [
    {
     "name": "stdout",
     "output_type": "stream",
     "text": [
      "Unexpected results...\n",
      "[('Northern Ireland', 'Northern Ireland'), ('Åland Islands', 'and Ireland')]\n"
     ]
    }
   ],
   "source": [
    "doc = nlp(\"This is a test that should find Northern Ireland and Ireland\")\n",
    "countries = [(ent.ent_id_, ent.text) for ent in doc.ents if ent.label_ == \"COUNTRY\"]\n",
    "if countries != [(\"Northern Ireland\", \"Northern Ireland\"), (\"Ireland\", \"Ireland\")]:\n",
    "    print(\"Unexpected results...\")\n",
    "    print(countries)\n",
    "else:\n",
    "    print(\"Success!\")\n",
    "    print(countries)"
   ]
  },
  {
   "cell_type": "markdown",
   "id": "mineral-cradle",
   "metadata": {},
   "source": [
    "Uh oh. Why does \"and Ireland\" match to \"Åland Islands\" when \"Ireland\" is in the patterns and provides a 100% match with \"Ireland\" in the text? This happens because as long as the `min_r` parameter is exceeded in fuzzy matching, spaczz considers this a match and will prioritize longer matches (in tokens) over shorter matches.\n",
    "\n",
    "By default the fuzzy matcher uses a `min_r` of `75`. It also lower-cases input by default, which on-average results in higher match ratios. See the results below:"
   ]
  },
  {
   "cell_type": "code",
   "execution_count": 7,
   "id": "basic-wagner",
   "metadata": {
    "ExecuteTime": {
     "end_time": "2023-05-01T03:07:43.561268Z",
     "start_time": "2023-05-01T03:07:43.554379Z"
    }
   },
   "outputs": [
    {
     "data": {
      "text/plain": [
       "75"
      ]
     },
     "execution_count": 7,
     "metadata": {},
     "output_type": "execute_result"
    }
   ],
   "source": [
    "from rapidfuzz import fuzz\n",
    "\n",
    "int(fuzz.ratio(\"åland islands\", \"and ireland\"))"
   ]
  },
  {
   "cell_type": "markdown",
   "id": "irish-miracle",
   "metadata": {},
   "source": [
    "This exactly meets the default `min_r` threshold. Many use-cases will likely require increasing this value, and the optimal value may vary from pattern to pattern. For example, shorter patterns (in characters) may need a higher `min_r` than longer patterns to provide good matches. A better method for setting a good `min_r` is a process I would like to provide some automated and/or heuristic-based options for in the future but they do not exist at this time.\n",
    "\n",
    "Why not prioritize higher ratios over longer matches? Because shorter matches will have a distinct advantage. Say in the above string we are searching, \"Northern Ireland\" was misspelled as \"Norten Ireland\"? If we prioritize ratio, then the pattern \"Ireland\" will match with the text \"Ireland\" and leave off \"Norten\", even though from a fuzzy matching standpoint, we would likely want \"Norten Ireland\" to match with \"Northern Ireland\"\n",
    "\n",
    "So to address this we will often want to tweak `min_r` either per-pattern or for the entire pipeline. We will increase `min_r` for the entire pipeline below."
   ]
  },
  {
   "cell_type": "markdown",
   "id": "sweet-silver",
   "metadata": {},
   "source": [
    "### Modified Pipeline"
   ]
  },
  {
   "cell_type": "code",
   "execution_count": 8,
   "id": "generic-trade",
   "metadata": {
    "ExecuteTime": {
     "end_time": "2023-05-01T03:07:45.656738Z",
     "start_time": "2023-05-01T03:07:45.483210Z"
    }
   },
   "outputs": [],
   "source": [
    "nlp = spacy.blank(\"en\")\n",
    "spaczz_ruler = nlp.add_pipe(\n",
    "    \"spaczz_ruler\", config={\"fuzzy_defaults\": {\"min_r\": 85}}\n",
    ")  # increase from 75 and applies to each pattern.\n",
    "spaczz_ruler.add_patterns(fuzzy_patterns)"
   ]
  },
  {
   "cell_type": "code",
   "execution_count": 9,
   "id": "helpful-dakota",
   "metadata": {
    "ExecuteTime": {
     "end_time": "2023-05-01T03:07:46.501599Z",
     "start_time": "2023-05-01T03:07:46.475531Z"
    }
   },
   "outputs": [
    {
     "name": "stdout",
     "output_type": "stream",
     "text": [
      "Success!\n",
      "[('Northern Ireland', 'Northern Ireland'), ('Ireland', 'Ireland')]\n"
     ]
    }
   ],
   "source": [
    "doc = nlp(\"This is a test that should find Northern Ireland and Ireland\")\n",
    "countries = [(ent.ent_id_, ent.text) for ent in doc.ents if ent.label_ == \"COUNTRY\"]\n",
    "if countries != [(\"Northern Ireland\", \"Northern Ireland\"), (\"Ireland\", \"Ireland\")]:\n",
    "    print(\"Unexpected results...\")\n",
    "    print(countries)\n",
    "else:\n",
    "    print(\"Success!\")\n",
    "    print(countries)"
   ]
  },
  {
   "cell_type": "markdown",
   "id": "limiting-hobby",
   "metadata": {},
   "source": [
    "## Example 3: Paragraph"
   ]
  },
  {
   "cell_type": "markdown",
   "id": "ideal-consequence",
   "metadata": {},
   "source": [
    "Loading in some random text that does not actually contain any country names in it."
   ]
  },
  {
   "cell_type": "code",
   "execution_count": 10,
   "id": "caroline-gamma",
   "metadata": {
    "ExecuteTime": {
     "end_time": "2023-05-01T03:07:48.126735Z",
     "start_time": "2023-05-01T03:07:48.123353Z"
    }
   },
   "outputs": [],
   "source": [
    "with open(path / \"lorem.txt\", \"r\") as f:\n",
    "    txt = f.read()"
   ]
  },
  {
   "cell_type": "markdown",
   "id": "rotary-worship",
   "metadata": {},
   "source": [
    "### Basic Pipeline"
   ]
  },
  {
   "cell_type": "markdown",
   "id": "hairy-procurement",
   "metadata": {},
   "source": [
    "Re-establishing the basic pipeline here:"
   ]
  },
  {
   "cell_type": "code",
   "execution_count": 11,
   "id": "celtic-insurance",
   "metadata": {
    "ExecuteTime": {
     "end_time": "2023-05-01T03:07:49.288399Z",
     "start_time": "2023-05-01T03:07:49.113802Z"
    }
   },
   "outputs": [],
   "source": [
    "nlp = spacy.blank(\"en\")\n",
    "spaczz_ruler = nlp.add_pipe(\"spaczz_ruler\")\n",
    "spaczz_ruler.add_patterns(fuzzy_patterns)"
   ]
  },
  {
   "cell_type": "code",
   "execution_count": 12,
   "id": "5429a9c1",
   "metadata": {
    "ExecuteTime": {
     "end_time": "2023-05-01T03:07:51.359740Z",
     "start_time": "2023-05-01T03:07:50.418908Z"
    }
   },
   "outputs": [
    {
     "name": "stdout",
     "output_type": "stream",
     "text": [
      "Unexpected results...\n",
      "[('Chad', 'had'), ('Oman', 'man'), ('Chad', 'had'), ('Oman', 'man'), ('Togo', 'Too'), ('Oman', 'man'), ('Poland', 'norland'), ('Belize', 'believe'), ('Chile', 'children'), ('Belize', 'believe'), ('Yemen', 'men'), ('Chad', 'had'), ('Chad', 'Had'), ('France', 'face'), ('Poland', 'norland'), ('Spain', 'speaking'), ('Chad', 'hand'), ('Togo', 'too'), ('Togo', 'took'), ('Spain', 'speaking'), ('Guam', 'game'), ('Mayotte', 'matter')]\n"
     ]
    }
   ],
   "source": [
    "doc = nlp(txt)\n",
    "countries = [(ent.ent_id_, ent.text) for ent in doc.ents if ent.label_ == \"COUNTRY\"]\n",
    "if countries != []:\n",
    "    print(\"Unexpected results...\")\n",
    "    print(countries)\n",
    "else:\n",
    "    print(\"Success!\")\n",
    "    print(countries)"
   ]
  },
  {
   "cell_type": "markdown",
   "id": "falling-capture",
   "metadata": {
    "ExecuteTime": {
     "end_time": "2021-02-15T20:33:28.683649Z",
     "start_time": "2021-02-15T20:33:28.680908Z"
    }
   },
   "source": [
    "Yep. It looks like the default `min_r` value of `75` is far to permissive for many of these shorter patterns.\n",
    "\n",
    "In this situation we could also increase the `min_r` for the entire pipeline like we did in example 2, or we could try changing the `min_r` on a pattern level. Let's try the latter this time.\n",
    "\n",
    "But first there is one tweak we can make to the entire pipeline (also available on the pattern-level) that might also help: enabling case-sensitivity which is disabled by default. Case sensitive matches will lower the match ratio between potential matches with different casings."
   ]
  },
  {
   "cell_type": "markdown",
   "id": "suspended-thought",
   "metadata": {},
   "source": [
    "### Modified Pipeline"
   ]
  },
  {
   "cell_type": "code",
   "execution_count": 13,
   "id": "national-growing",
   "metadata": {
    "ExecuteTime": {
     "end_time": "2023-05-01T03:07:54.832300Z",
     "start_time": "2023-05-01T03:07:54.651476Z"
    }
   },
   "outputs": [],
   "source": [
    "nlp = spacy.blank(\"en\")\n",
    "spaczz_ruler = nlp.add_pipe(\n",
    "    \"spaczz_ruler\", config={\"fuzzy_defaults\": {\"ignore_case\": False}}\n",
    ")  # Enable case-sensitivity.\n",
    "spaczz_ruler.add_patterns(fuzzy_patterns)"
   ]
  },
  {
   "cell_type": "code",
   "execution_count": 14,
   "id": "2f0617f0",
   "metadata": {
    "ExecuteTime": {
     "end_time": "2023-05-01T03:07:56.831205Z",
     "start_time": "2023-05-01T03:07:55.939471Z"
    }
   },
   "outputs": [
    {
     "name": "stdout",
     "output_type": "stream",
     "text": [
      "Unexpected results...\n",
      "[('Chad', 'had'), ('Oman', 'man'), ('Chad', 'had'), ('Oman', 'man'), ('Togo', 'Too'), ('Oman', 'man'), ('Poland', 'norland'), ('Yemen', 'men'), ('Chad', 'had'), ('Poland', 'norland'), ('Chad', 'hand')]\n"
     ]
    }
   ],
   "source": [
    "doc = nlp(txt)\n",
    "countries = [(ent.ent_id_, ent.text) for ent in doc.ents if ent.label_ == \"COUNTRY\"]\n",
    "if countries != []:\n",
    "    print(\"Unexpected results...\")\n",
    "    print(countries)\n",
    "else:\n",
    "    print(\"Success!\")\n",
    "    print(countries)"
   ]
  },
  {
   "cell_type": "markdown",
   "id": "right-profile",
   "metadata": {},
   "source": [
    "This already shows some improvement, but let's re-generate our patterns in a programmatic way to enforce higher ratio matches for shorter pattern strings.\n",
    "\n",
    "**Note**\n",
    "\n",
    "With short enough patterns (less than 5-6 or so characters long) fuzzy matching becomes less useful. Using the default fuzzy matching settings \"Chad\" matches with \"had\" with a ratio of 75 and there isn't a ratio between that and an 100% match. Setting a `min_r` of say `95` with these short patterns is effectively setting it to `100`. Therefore, short patterns are probably better used with spaCy's `EntityRuler` for it's far superior speed."
   ]
  },
  {
   "cell_type": "code",
   "execution_count": 15,
   "id": "developed-delta",
   "metadata": {
    "ExecuteTime": {
     "end_time": "2023-05-01T03:07:59.617420Z",
     "start_time": "2023-05-01T03:07:59.611640Z"
    }
   },
   "outputs": [],
   "source": [
    "raw_patterns = srsly.read_json(path / \"countries.json\")\n",
    "fuzzy_patterns = []\n",
    "\n",
    "for pattern in raw_patterns:\n",
    "    template = {\n",
    "        \"label\": \"COUNTRY\",\n",
    "        \"pattern\": pattern[\"name\"],\n",
    "        \"type\": \"fuzzy\",\n",
    "        \"id\": pattern[\"name\"],\n",
    "    }\n",
    "    if len(template[\"pattern\"]) < 5:\n",
    "        template[\"kwargs\"] = {\"min_r\": 100}  # see note above\n",
    "    elif len(template[\"pattern\"]) >= 5 and len(template[\"pattern\"]) < 8:\n",
    "        template[\"kwargs\"] = {\"min_r\": 85}\n",
    "    fuzzy_patterns.append(template)"
   ]
  },
  {
   "cell_type": "markdown",
   "id": "adapted-counter",
   "metadata": {},
   "source": [
    "We'll put these new patterns into the same modified pipeline from above."
   ]
  },
  {
   "cell_type": "code",
   "execution_count": 16,
   "id": "preceding-swimming",
   "metadata": {
    "ExecuteTime": {
     "end_time": "2023-05-01T03:08:02.369759Z",
     "start_time": "2023-05-01T03:08:02.187639Z"
    }
   },
   "outputs": [],
   "source": [
    "nlp = spacy.blank(\"en\")\n",
    "spaczz_ruler = nlp.add_pipe(\n",
    "    \"spaczz_ruler\", config={\"fuzzy_defaults\": {\"ignore_case\": False}}\n",
    ")  # Enable case-sensitivity.\n",
    "spaczz_ruler.add_patterns(fuzzy_patterns)"
   ]
  },
  {
   "cell_type": "markdown",
   "id": "thick-asthma",
   "metadata": {},
   "source": [
    "And see the new results:"
   ]
  },
  {
   "cell_type": "code",
   "execution_count": 17,
   "id": "gross-revision",
   "metadata": {
    "ExecuteTime": {
     "end_time": "2023-05-01T03:08:05.639539Z",
     "start_time": "2023-05-01T03:08:04.723697Z"
    }
   },
   "outputs": [
    {
     "name": "stdout",
     "output_type": "stream",
     "text": [
      "Success!\n",
      "[]\n"
     ]
    }
   ],
   "source": [
    "doc = nlp(txt)\n",
    "countries = [(ent.ent_id_, ent.text, ent._.spaczz_ratio) for ent in doc.ents if ent.label_ == \"COUNTRY\"]\n",
    "if countries != []:\n",
    "    print(\"Unexpected results...\")\n",
    "    print(countries)\n",
    "else:\n",
    "    print(\"Success!\")\n",
    "    print(countries)"
   ]
  }
 ],
 "metadata": {
  "kernelspec": {
   "display_name": "Python [poetry:spaczz]",
   "language": "python",
   "name": "python-poetry-spaczz"
  },
  "language_info": {
   "codemirror_mode": {
    "name": "ipython",
    "version": 3
   },
   "file_extension": ".py",
   "mimetype": "text/x-python",
   "name": "python",
   "nbconvert_exporter": "python",
   "pygments_lexer": "ipython3",
   "version": "3.11.3"
  },
  "toc": {
   "base_numbering": 1,
   "nav_menu": {},
   "number_sections": false,
   "sideBar": true,
   "skip_h1_title": false,
   "title_cell": "Table of Contents",
   "title_sidebar": "Contents",
   "toc_cell": false,
   "toc_position": {},
   "toc_section_display": true,
   "toc_window_display": false
  },
  "varInspector": {
   "cols": {
    "lenName": 16,
    "lenType": 16,
    "lenVar": 40
   },
   "kernels_config": {
    "python": {
     "delete_cmd_postfix": "",
     "delete_cmd_prefix": "del ",
     "library": "var_list.py",
     "varRefreshCmd": "print(var_dic_list())"
    },
    "r": {
     "delete_cmd_postfix": ") ",
     "delete_cmd_prefix": "rm(",
     "library": "var_list.r",
     "varRefreshCmd": "cat(var_dic_list()) "
    }
   },
   "types_to_exclude": [
    "module",
    "function",
    "builtin_function_or_method",
    "instance",
    "_Feature"
   ],
   "window_display": false
  }
 },
 "nbformat": 4,
 "nbformat_minor": 5
}
